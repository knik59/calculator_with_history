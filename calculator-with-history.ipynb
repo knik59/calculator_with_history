{
 "cells": [
  {
   "cell_type": "code",
   "execution_count": null,
   "id": "47f69da8-eeda-4d28-9567-fc8a20e50e50",
   "metadata": {},
   "outputs": [],
   "source": [
    "HISTORY_FILE = \"history.txt\"\n",
    "\n",
    "# Ensure history file exists\n",
    "with open(HISTORY_FILE, \"a\") as f:\n",
    "    pass"
   ]
  },
  {
   "cell_type": "code",
   "execution_count": null,
   "id": "29e5b96b-d28b-4ddb-877f-6b2d429d57b2",
   "metadata": {},
   "outputs": [],
   "source": [
    "def show_history():\n",
    "    try:\n",
    "        with open(HISTORY_FILE, 'r') as f:\n",
    "            lines = f.readlines()\n",
    "            if not lines:\n",
    "                print(\"No History Found!\")\n",
    "            else:\n",
    "                for line in reversed(lines):\n",
    "                    print(line.strip())\n",
    "    except FileNotFoundError:\n",
    "        print(\"No History File Found!\")"
   ]
  },
  {
   "cell_type": "code",
   "execution_count": null,
   "id": "8f01aa11-3ee8-4739-a2f9-4b0231a7fb27",
   "metadata": {},
   "outputs": [],
   "source": [
    "def save_to_history(equation, result):\n",
    "    from datetime import datetime\n",
    "    with open(HISTORY_FILE, 'a') as file:\n",
    "        timestamp = datetime.now().strftime(\"%Y-%m-%d %H:%M:%S\")\n",
    "        file.write(f\"{equation} = {str(result)} -> {timestamp}\\n\")\n",
    "        "
   ]
  },
  {
   "cell_type": "code",
   "execution_count": null,
   "id": "80e9111d-ceea-4a0f-bff5-320a61b499b5",
   "metadata": {},
   "outputs": [],
   "source": [
    "def clear_history():\n",
    "    with open(HISTORY_FILE, \"w\") as f:\n",
    "        pass\n",
    "    print(\"History cleared!\")"
   ]
  },
  {
   "cell_type": "code",
   "execution_count": null,
   "id": "5b356c6f-cef9-449b-9f38-03d0041d90b0",
   "metadata": {},
   "outputs": [],
   "source": [
    "def calculate(user_input):\n",
    "    try:\n",
    "        # Evaluate expression directly\n",
    "        result = eval(user_input, {\"__builtins__\": None}, {})\n",
    "\n",
    "        # Convert float like 10.0 → 10\n",
    "        if isinstance(result, float) and result.is_integer():\n",
    "            result = int(result)\n",
    "\n",
    "        print(\"Result:\", result)\n",
    "        save_to_history(user_input, result)\n",
    "\n",
    "    except ZeroDivisionError:\n",
    "        print(\"Cannot divide by zero!\")\n",
    "    except Exception:\n",
    "        print(\"Invalid Expression! Please use correct format.\")\n",
    "\n",
    "\n",
    "def main():\n",
    "    print(\"---- SIMPLE CALCULATOR ----\")\n",
    "    print(\"Enter expression using +, -, *, /, %, **\")\n",
    "    print(\"Supports multiple operands & follows BODMAS (e.g. 5 + 3 * 2)\")\n",
    "    print(\"Commands: history (his), clear (cl), exit (ex)\")\n",
    "\n",
    "    while True:\n",
    "        user_input = input(\"\\nEnter calculation or command: \").strip()\n",
    "\n",
    "        if user_input.lower() == 'ex':\n",
    "            print(\"Goodbye!\")\n",
    "            break\n",
    "        elif user_input.lower() == 'his':\n",
    "            show_history()\n",
    "        elif user_input.lower() == 'cl':\n",
    "            clear_history()\n",
    "        else:\n",
    "            calculate(user_input)"
   ]
  },
  {
   "cell_type": "code",
   "execution_count": null,
   "id": "13f04508-f9f6-4a7d-b04a-43837118c5a4",
   "metadata": {},
   "outputs": [],
   "source": [
    "main()"
   ]
  },
  {
   "cell_type": "code",
   "execution_count": null,
   "id": "3c483990-e612-4217-8ff2-b6a53a3b0702",
   "metadata": {},
   "outputs": [],
   "source": []
  },
  {
   "cell_type": "code",
   "execution_count": null,
   "id": "2db2e53f-cdab-449a-a66e-a1c0e36ef7b8",
   "metadata": {},
   "outputs": [],
   "source": []
  }
 ],
 "metadata": {
  "kernelspec": {
   "display_name": "Python [conda env:base] *",
   "language": "python",
   "name": "conda-base-py"
  },
  "language_info": {
   "codemirror_mode": {
    "name": "ipython",
    "version": 3
   },
   "file_extension": ".py",
   "mimetype": "text/x-python",
   "name": "python",
   "nbconvert_exporter": "python",
   "pygments_lexer": "ipython3",
   "version": "3.12.7"
  }
 },
 "nbformat": 4,
 "nbformat_minor": 5
}
